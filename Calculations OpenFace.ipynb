{
 "cells": [
  {
   "cell_type": "markdown",
   "metadata": {},
   "source": [
    "# Calculations OpenFace\n",
    "\n",
    "## load & init "
   ]
  },
  {
   "cell_type": "code",
   "execution_count": 1,
   "metadata": {},
   "outputs": [
    {
     "name": "stdout",
     "output_type": "stream",
     "text": [
      "['/accuracies', '/accuracies_gblinded', '/accuracies_logit_only_128', '/accuracies_rblinded', '/accuracies_rgblinded', '/awareness_predictions', '/clf_predict_indices', '/clf_predict_indices_facenet', '/cluster_eucl_distances', '/cluster_eucl_distances_3d', '/ethnicity_fr_rates', '/logit_race_f1', '/nn_eucl_distances', '/nn_indices', '/pair_predictions', '/pair_predictions_facenet', '/t_SNE_FaceNet', '/t_SNE_aware', '/t_SNE_blinded', '/t_SNE_openface', '/t_SNE_openface2', '/t_SNE_vgg128']\n"
     ]
    }
   ],
   "source": [
    "# imports\n",
    "%load_ext autoreload\n",
    "%autoreload 2\n",
    "\n",
    "# import\n",
    "import pandas as pd\n",
    "import numpy as np\n",
    "import seaborn as sns\n",
    "import matplotlib.pyplot as plt\n",
    "import helpers as hlp\n",
    "from scipy.linalg import orth\n",
    "from sklearn.linear_model import LogisticRegression\n",
    "\n",
    "mystore = r'C:\\Daten\\_tmp\\FRdata.h5'\n",
    "rd = hlp.H5Reader2()\n",
    "\n",
    "with pd.HDFStore(mystore) as store:\n",
    "    print(store.keys())"
   ]
  },
  {
   "cell_type": "code",
   "execution_count": 3,
   "metadata": {},
   "outputs": [],
   "source": [
    "with pd.HDFStore(mystore) as store:\n",
    "    #store.remove(nnkey)\n",
    "    pass"
   ]
  },
  {
   "cell_type": "code",
   "execution_count": 7,
   "metadata": {},
   "outputs": [],
   "source": [
    "# loading the data\n",
    "reader = hlp.H5Reader2()\n",
    "X, df = reader.read('OpenFace')\n",
    "yr = df.race.cat.codes.values\n",
    "race_labels = df.race.astype(str).values\n",
    "yg = 1-df.gender.cat.codes.values\n",
    "ya = df.age.cat.codes.values\n",
    "ids = df.subject.values\n",
    "imgs = df.img.values"
   ]
  },
  {
   "cell_type": "code",
   "execution_count": 9,
   "metadata": {},
   "outputs": [
    {
     "data": {
      "text/plain": [
       "array([0.99999998, 1.00000005, 0.99999996, ..., 0.99999999, 0.99999997,\n",
       "       0.99999998])"
      ]
     },
     "execution_count": 9,
     "metadata": {},
     "output_type": "execute_result"
    }
   ],
   "source": [
    "np.linalg.norm(X,axis=1)"
   ]
  },
  {
   "cell_type": "markdown",
   "metadata": {},
   "source": [
    "## t-SNE"
   ]
  },
  {
   "cell_type": "code",
   "execution_count": 47,
   "metadata": {},
   "outputs": [],
   "source": [
    "# ======== takes a long time to run ==========\n",
    "from sklearn.manifold import TSNE\n",
    "Xt = TSNE(n_components=2).fit_transform(X)\n",
    "tmp = pd.concat([df[['race','gender','age']].astype(str), pd.DataFrame(Xt,columns=['x','y'])],1)\n",
    "tmp.to_hdf(mystore,'t_SNE_openface')"
   ]
  },
  {
   "cell_type": "markdown",
   "metadata": {},
   "source": [
    "## Awareness with different classifiers"
   ]
  },
  {
   "cell_type": "code",
   "execution_count": 8,
   "metadata": {
    "scrolled": false
   },
   "outputs": [
    {
     "name": "stdout",
     "output_type": "stream",
     "text": [
      "Centroid-OpenFace-n-e-r done ...\n",
      "Centroid-OpenFace-n-e-g done ...\n",
      "Logit-OpenFace-n-e-r done ...\n",
      "Logit-OpenFace-n-e-g done ...\n",
      "NN1-OpenFace-n-e-r done ...\n",
      "NN1-OpenFace-n-e-g done ...\n",
      "NN2-OpenFace-n-e-r done ...\n",
      "NN2-OpenFace-n-e-g done ...\n",
      "Centroid-OpenFace-r-e-r done ...\n",
      "Centroid-OpenFace-r-e-g done ...\n",
      "Logit-OpenFace-r-e-r done ...\n",
      "Logit-OpenFace-r-e-g done ...\n",
      "NN1-OpenFace-r-e-r done ...\n",
      "NN1-OpenFace-r-e-g done ...\n",
      "NN2-OpenFace-r-e-r done ...\n",
      "NN2-OpenFace-r-e-g done ...\n",
      "Centroid-OpenFace-g-e-r done ...\n",
      "Centroid-OpenFace-g-e-g done ...\n",
      "Logit-OpenFace-g-e-r done ...\n",
      "Logit-OpenFace-g-e-g done ...\n",
      "NN1-OpenFace-g-e-r done ...\n",
      "NN1-OpenFace-g-e-g done ...\n",
      "NN2-OpenFace-g-e-r done ...\n",
      "NN2-OpenFace-g-e-g done ...\n"
     ]
    }
   ],
   "source": [
    "# this will take ages\n",
    "from sklearn.linear_model import LogisticRegression\n",
    "from sklearn.neighbors import KNeighborsClassifier\n",
    "from sklearn.neural_network import MLPClassifier\n",
    "from sklearn.neighbors import NearestCentroid\n",
    "\n",
    "mb = hlp.ModelBenchmarker(ids,n_splits=2)\n",
    "\n",
    "clf_dict = {'Centroid':NearestCentroid(),\n",
    "            'Logit':LogisticRegression(random_state=0,max_iter=500,solver='sag'),\n",
    "            # 'KNN5':KNeighborsClassifier(5),\n",
    "            'NN1':MLPClassifier(alpha=1, max_iter=1000,hidden_layer_sizes=[100],tol=1e-5) ,\n",
    "            'NN2':MLPClassifier(alpha=1, max_iter=1000,hidden_layer_sizes=[100,20],tol=1e-5)}\n",
    "\n",
    "y_dict = {'r':yr, 'g':yg}\n",
    "X_dict = {'OpenFace':X}\n",
    "y_args_dict = {'n':[],'r':[yr],'g':[yg]}\n",
    "for X_name,Xi in hlp.X_generator(X_dict,y_args_dict, cosine=False):\n",
    "    for clf_name, clf in clf_dict.items():\n",
    "        for y_name, y in y_dict.items():\n",
    "            col_name = clf_name + '-' + X_name + '-' + y_name\n",
    "            y_pred = mb.predict(clf, Xi, y)\n",
    "            hlp.hdf_add_col(mystore,'clf_predict_indices_openface',col_name,y_pred)\n",
    "            print(col_name,'done ...')"
   ]
  },
  {
   "cell_type": "markdown",
   "metadata": {},
   "source": [
    "## Face Recognition Rate (with pair metric)"
   ]
  },
  {
   "cell_type": "code",
   "execution_count": 6,
   "metadata": {},
   "outputs": [
    {
     "data": {
      "text/html": [
       "<div>\n",
       "<style scoped>\n",
       "    .dataframe tbody tr th:only-of-type {\n",
       "        vertical-align: middle;\n",
       "    }\n",
       "\n",
       "    .dataframe tbody tr th {\n",
       "        vertical-align: top;\n",
       "    }\n",
       "\n",
       "    .dataframe thead th {\n",
       "        text-align: right;\n",
       "    }\n",
       "</style>\n",
       "<table border=\"1\" class=\"dataframe\">\n",
       "  <thead>\n",
       "    <tr style=\"text-align: right;\">\n",
       "      <th></th>\n",
       "      <th>race</th>\n",
       "      <th>gender</th>\n",
       "      <th>age</th>\n",
       "      <th>label1</th>\n",
       "      <th>label2</th>\n",
       "      <th>subject1</th>\n",
       "      <th>subject2</th>\n",
       "      <th>issame</th>\n",
       "    </tr>\n",
       "  </thead>\n",
       "  <tbody>\n",
       "    <tr>\n",
       "      <th>0</th>\n",
       "      <td>Caucasian</td>\n",
       "      <td>Female</td>\n",
       "      <td>30-45</td>\n",
       "      <td>Caucasian_027n6t8_0003</td>\n",
       "      <td>Caucasian_027n6t8_0002</td>\n",
       "      <td>Caucasian_027n6t8</td>\n",
       "      <td>Caucasian_027n6t8</td>\n",
       "      <td>1</td>\n",
       "    </tr>\n",
       "    <tr>\n",
       "      <th>1</th>\n",
       "      <td>Caucasian</td>\n",
       "      <td>Male</td>\n",
       "      <td>30-45</td>\n",
       "      <td>Caucasian_016lb3_0004</td>\n",
       "      <td>Caucasian_016lb3_0002</td>\n",
       "      <td>Caucasian_016lb3</td>\n",
       "      <td>Caucasian_016lb3</td>\n",
       "      <td>1</td>\n",
       "    </tr>\n",
       "    <tr>\n",
       "      <th>2</th>\n",
       "      <td>Caucasian</td>\n",
       "      <td>Male</td>\n",
       "      <td>30-45</td>\n",
       "      <td>Caucasian_02_4qt_0003</td>\n",
       "      <td>Caucasian_02_4qt_0002</td>\n",
       "      <td>Caucasian_02_4qt</td>\n",
       "      <td>Caucasian_02_4qt</td>\n",
       "      <td>1</td>\n",
       "    </tr>\n",
       "    <tr>\n",
       "      <th>3</th>\n",
       "      <td>Caucasian</td>\n",
       "      <td>Male</td>\n",
       "      <td>30-45</td>\n",
       "      <td>Caucasian_09g8fj_0003</td>\n",
       "      <td>Caucasian_09g8fj_0001</td>\n",
       "      <td>Caucasian_09g8fj</td>\n",
       "      <td>Caucasian_09g8fj</td>\n",
       "      <td>1</td>\n",
       "    </tr>\n",
       "    <tr>\n",
       "      <th>4</th>\n",
       "      <td>Caucasian</td>\n",
       "      <td>Female</td>\n",
       "      <td>30-45</td>\n",
       "      <td>Caucasian_01q3xr_0001</td>\n",
       "      <td>Caucasian_01q3xr_0003</td>\n",
       "      <td>Caucasian_01q3xr</td>\n",
       "      <td>Caucasian_01q3xr</td>\n",
       "      <td>1</td>\n",
       "    </tr>\n",
       "  </tbody>\n",
       "</table>\n",
       "</div>"
      ],
      "text/plain": [
       "        race  gender    age                  label1                  label2  \\\n",
       "0  Caucasian  Female  30-45  Caucasian_027n6t8_0003  Caucasian_027n6t8_0002   \n",
       "1  Caucasian    Male  30-45   Caucasian_016lb3_0004   Caucasian_016lb3_0002   \n",
       "2  Caucasian    Male  30-45   Caucasian_02_4qt_0003   Caucasian_02_4qt_0002   \n",
       "3  Caucasian    Male  30-45   Caucasian_09g8fj_0003   Caucasian_09g8fj_0001   \n",
       "4  Caucasian  Female  30-45   Caucasian_01q3xr_0001   Caucasian_01q3xr_0003   \n",
       "\n",
       "            subject1           subject2  issame  \n",
       "0  Caucasian_027n6t8  Caucasian_027n6t8       1  \n",
       "1   Caucasian_016lb3   Caucasian_016lb3       1  \n",
       "2   Caucasian_02_4qt   Caucasian_02_4qt       1  \n",
       "3   Caucasian_09g8fj   Caucasian_09g8fj       1  \n",
       "4   Caucasian_01q3xr   Caucasian_01q3xr       1  "
      ]
     },
     "execution_count": 6,
     "metadata": {},
     "output_type": "execute_result"
    }
   ],
   "source": [
    "# prepare distance class\n",
    "frm = hlp.RFWDistances()\n",
    "frm._df.insert(3,'subject2', frm._df['label2'].apply(lambda s: s[:-5]))\n",
    "frm._df.insert(3,'subject1', frm._df['label1'].apply(lambda s: s[:-5]))\n",
    "frm._df.insert(1,'age', rd.agegen_df.reindex(frm._df.subject1)['age'].astype(str).values)\n",
    "frm._df.insert(1,'gender', rd.agegen_df.reindex(frm._df.subject1)['gender'].astype(str).values)\n",
    "frm._df.head()"
   ]
  },
  {
   "cell_type": "code",
   "execution_count": 4,
   "metadata": {},
   "outputs": [
    {
     "name": "stdout",
     "output_type": "stream",
     "text": [
      "OpenFace-n-e\n",
      "eigenvalues of B = [1. 1. 1.]\n",
      "OpenFace-r-e\n",
      "eigenvalues of B = [1.]\n",
      "OpenFace-g-e\n"
     ]
    }
   ],
   "source": [
    "# prepare distance class for \n",
    "X_dict = {'OpenFace':X}\n",
    "y_args_dict = {'n':[],'r':[yr],'g':[yg]}\n",
    "dist_df = pd.DataFrame()\n",
    "for name,Xi in hlp.X_generator(X_dict,y_args_dict,verbose=True,cosine=False):\n",
    "    print(name)\n",
    "    dist_df[name] = frm.get_distance_df(Xi,imgs)['eucl']"
   ]
  },
  {
   "cell_type": "code",
   "execution_count": 5,
   "metadata": {},
   "outputs": [],
   "source": [
    "#from sklearn.neighbors import NearestCentroid\n",
    "#clf = NearestCentroid()\n",
    "from sklearn.linear_model import LogisticRegression\n",
    "clf = LogisticRegression()\n",
    "pred_df = dist_df.copy() * np.nan\n",
    "for col in dist_df.columns:\n",
    "    sel = np.isfinite(dist_df[col])\n",
    "    X = dist_df[[col]].values\n",
    "    y = frm._df.issame\n",
    "    clf.fit(X[sel,:],y[sel])\n",
    "    pred_df.loc[sel,col] = np.float16(clf.predict(X[sel]) == y[sel])\n",
    "\n",
    "pred_df = pd.concat([frm._df,pred_df],1)\n",
    "pred_df.to_hdf(mystore,'pair_predictions_openface')"
   ]
  },
  {
   "cell_type": "code",
   "execution_count": null,
   "metadata": {},
   "outputs": [],
   "source": []
  }
 ],
 "metadata": {
  "kernelspec": {
   "display_name": "Python 3",
   "language": "python",
   "name": "python3"
  },
  "language_info": {
   "codemirror_mode": {
    "name": "ipython",
    "version": 3
   },
   "file_extension": ".py",
   "mimetype": "text/x-python",
   "name": "python",
   "nbconvert_exporter": "python",
   "pygments_lexer": "ipython3",
   "version": "3.7.7"
  }
 },
 "nbformat": 4,
 "nbformat_minor": 4
}
